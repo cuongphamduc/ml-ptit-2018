{
 "cells": [
  {
   "cell_type": "code",
   "execution_count": 137,
   "metadata": {},
   "outputs": [],
   "source": [
    "import numpy as np\n",
    "from sklearn.metrics import accuracy_score, f1_score,confusion_matrix\n",
    "from sklearn.preprocessing import MinMaxScaler\n",
    "import torch \n",
    "import torch.nn as nn\n",
    "import torch.optim as optim\n",
    "from torch.autograd import Variable"
   ]
  },
  {
   "cell_type": "code",
   "execution_count": 138,
   "metadata": {},
   "outputs": [],
   "source": [
    "path = '../corpus/breast-cancer-wisconsin.data'\n",
    "with open(path, 'r') as f:\n",
    "    lines = f.readlines()\n",
    "# lines = lines[:2]\n",
    "lines=[l.strip().replace('?','5').split(',') for l in lines]\n",
    "lines = np.array(lines)\n",
    "ids = lines[:,0].astype(np.int)\n",
    "x = lines[:,1:-1].astype(np.float)\n",
    "\n",
    "y = lines[:,-1].astype(np.int)\n",
    "y = y/2-1"
   ]
  },
  {
   "cell_type": "code",
   "execution_count": 139,
   "metadata": {},
   "outputs": [],
   "source": [
    "scaler = MinMaxScaler()\n",
    "scaler.fit(x)\n",
    "x = scaler.transform(x)"
   ]
  },
  {
   "cell_type": "code",
   "execution_count": 140,
   "metadata": {},
   "outputs": [],
   "source": [
    "epoch = 12000\n",
    "lr = 0.01"
   ]
  },
  {
   "cell_type": "code",
   "execution_count": 141,
   "metadata": {},
   "outputs": [],
   "source": [
    "model = nn.Sequential(\n",
    "    nn.Linear(9,h),\n",
    "    nn.Sigmoid(),\n",
    "    nn.Linear(h,h),\n",
    "    nn.Sigmoid(),\n",
    "    nn.Linear(h,2)\n",
    ")\n",
    "optimizer = torch.optim.SGD(model.parameters(), lr=lr)  \n",
    "weight = torch.FloatTensor(np.array([1,2]))\n",
    "criterion = nn.CrossEntropyLoss(weight=weight)"
   ]
  },
  {
   "cell_type": "code",
   "execution_count": 142,
   "metadata": {},
   "outputs": [
    {
     "name": "stdout",
     "output_type": "stream",
     "text": [
      "Epoch 0: 0.711122 > 0.344778 > 0.512766\n",
      "[[  0 458]\n",
      " [  0 241]]\n",
      "Epoch 1000: 0.659052 > 0.924177 > 0.900563\n",
      "[[406  52]\n",
      " [  1 240]]\n",
      "Epoch 2000: 0.562569 > 0.969957 > 0.956879\n",
      "[[445  13]\n",
      " [  8 233]]\n",
      "Epoch 3000: 0.332618 > 0.965665 > 0.950413\n",
      "[[445  13]\n",
      " [ 11 230]]\n",
      "Epoch 4000: 0.172690 > 0.967096 > 0.952577\n",
      "[[445  13]\n",
      " [ 10 231]]\n",
      "Epoch 5000: 0.122242 > 0.969957 > 0.956879\n",
      "[[445  13]\n",
      " [  8 233]]\n",
      "Epoch 6000: 0.104589 > 0.969957 > 0.956879\n",
      "[[445  13]\n",
      " [  8 233]]\n",
      "Epoch 7000: 0.096908 > 0.969957 > 0.956879\n",
      "[[445  13]\n",
      " [  8 233]]\n",
      "Epoch 8000: 0.092967 > 0.971388 > 0.959016\n",
      "[[445  13]\n",
      " [  7 234]]\n",
      "Epoch 9000: 0.090670 > 0.969957 > 0.957055\n",
      "[[444  14]\n",
      " [  7 234]]\n",
      "Epoch 10000: 0.089186 > 0.971388 > 0.959184\n",
      "[[444  14]\n",
      " [  6 235]]\n",
      "Epoch 11000: 0.088138 > 0.971388 > 0.959184\n",
      "[[444  14]\n",
      " [  6 235]]\n"
     ]
    }
   ],
   "source": [
    "features = Variable(torch.from_numpy(x).type(torch.FloatTensor))\n",
    "target = Variable(torch.from_numpy(y))\n",
    "for e in range(epoch):\n",
    "    y_hat = model(features)\n",
    "    loss = criterion(y_hat, target)\n",
    "    optimizer.zero_grad()\n",
    "    loss.backward()\n",
    "    optimizer.step()\n",
    "    if e % 1000 == 0:\n",
    "        _, y_pred = torch.max(y_hat, 1)\n",
    "        y_pred = y_pred.data.numpy()\n",
    "        \n",
    "        acc = accuracy_score(y, y_pred)\n",
    "        f = f1_score(y, y_pred)\n",
    "        cm = confusion_matrix(y, y_pred)\n",
    "        print('Epoch %d: %f > %f > %f'%(e, loss.data[0], acc, f))\n",
    "        print(cm)\n",
    "\n",
    "    \n"
   ]
  },
  {
   "cell_type": "code",
   "execution_count": null,
   "metadata": {},
   "outputs": [],
   "source": []
  },
  {
   "cell_type": "code",
   "execution_count": null,
   "metadata": {},
   "outputs": [],
   "source": []
  },
  {
   "cell_type": "code",
   "execution_count": null,
   "metadata": {},
   "outputs": [],
   "source": []
  },
  {
   "cell_type": "code",
   "execution_count": null,
   "metadata": {},
   "outputs": [],
   "source": []
  },
  {
   "cell_type": "code",
   "execution_count": null,
   "metadata": {},
   "outputs": [],
   "source": []
  },
  {
   "cell_type": "code",
   "execution_count": null,
   "metadata": {},
   "outputs": [],
   "source": []
  }
 ],
 "metadata": {
  "kernelspec": {
   "display_name": "Python 2",
   "language": "python",
   "name": "python2"
  },
  "language_info": {
   "codemirror_mode": {
    "name": "ipython",
    "version": 2
   },
   "file_extension": ".py",
   "mimetype": "text/x-python",
   "name": "python",
   "nbconvert_exporter": "python",
   "pygments_lexer": "ipython2",
   "version": "2.7.14"
  }
 },
 "nbformat": 4,
 "nbformat_minor": 2
}
